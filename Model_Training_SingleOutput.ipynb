{
 "cells": [
  {
   "cell_type": "markdown",
   "metadata": {},
   "source": [
    "# WiDS 2025\n",
    "### Sex Patterns in ADHD"
   ]
  },
  {
   "cell_type": "markdown",
   "metadata": {},
   "source": [
    "### Import"
   ]
  },
  {
   "cell_type": "code",
   "execution_count": 1,
   "metadata": {},
   "outputs": [],
   "source": [
    "import pandas as pd\n",
    "import numpy as np\n",
    "import math\n",
    "\n",
    "\n",
    "from sklearn.compose import ColumnTransformer\n",
    "from sklearn.linear_model import MultiTaskElasticNetCV, LogisticRegression, RidgeClassifier\n",
    "from sklearn.preprocessing import StandardScaler, OneHotEncoder\n",
    "from sklearn.model_selection import train_test_split\n",
    "from sklearn.metrics import accuracy_score, confusion_matrix, f1_score\n",
    "from sklearn.pipeline import make_pipeline, Pipeline\n",
    "from sklearn.impute import SimpleImputer\n",
    "\n",
    "\n",
    "import seaborn as sns\n",
    "import matplotlib.pyplot as plt\n",
    "\n",
    "# Multi-output\n",
    "from sklearn.multioutput import MultiOutputClassifier\n",
    "\n",
    "# Multi-task\n",
    "from sklearn.linear_model import MultiTaskElasticNetCV\n"
   ]
  },
  {
   "cell_type": "code",
   "execution_count": 2,
   "metadata": {},
   "outputs": [],
   "source": [
    "source = \"TRAIN\"\n",
    "connectome_train = pd.read_csv(f\"{source}/{source}_FUNCTIONAL_CONNECTOME_MATRICES.csv\")\n",
    "cat_train = pd.read_csv(f\"{source}/{source}_CATEGORICAL_METADATA.csv\")\n",
    "quan_train = pd.read_csv(f\"{source}/{source}_QUANTITATIVE_METADATA.csv\")\n",
    "label = pd.read_csv(f\"{source}/TRAINING_SOLUTIONS.csv\")"
   ]
  },
  {
   "cell_type": "code",
   "execution_count": 3,
   "metadata": {},
   "outputs": [],
   "source": [
    "source = \"TEST\"\n",
    "connectome_test = pd.read_csv(f\"{source}/{source}_FUNCTIONAL_CONNECTOME_MATRICES.csv\")\n",
    "cat_test = pd.read_csv(f\"{source}/{source}_CATEGORICAL.csv\")\n",
    "quan_test = pd.read_csv(f\"{source}/{source}_QUANTITATIVE_METADATA.csv\")"
   ]
  },
  {
   "cell_type": "code",
   "execution_count": 4,
   "metadata": {},
   "outputs": [],
   "source": [
    "#train = connectome_train.merge(quan_train, on= 'participant_id').merge(cat_train, on= 'participant_id')\n",
    "#train.head(5)\n",
    "\n",
    "test = connectome_train.merge(quan_test, on= 'participant_id').merge(cat_test, on= 'participant_id')\n"
   ]
  },
  {
   "cell_type": "code",
   "execution_count": 5,
   "metadata": {},
   "outputs": [],
   "source": [
    "train = quan_train.merge(cat_train, on= 'participant_id')"
   ]
  },
  {
   "cell_type": "code",
   "execution_count": 6,
   "metadata": {},
   "outputs": [
    {
     "data": {
      "text/html": [
       "<div>\n",
       "<style scoped>\n",
       "    .dataframe tbody tr th:only-of-type {\n",
       "        vertical-align: middle;\n",
       "    }\n",
       "\n",
       "    .dataframe tbody tr th {\n",
       "        vertical-align: top;\n",
       "    }\n",
       "\n",
       "    .dataframe thead th {\n",
       "        text-align: right;\n",
       "    }\n",
       "</style>\n",
       "<table border=\"1\" class=\"dataframe\">\n",
       "  <thead>\n",
       "    <tr style=\"text-align: right;\">\n",
       "      <th></th>\n",
       "      <th>participant_id</th>\n",
       "      <th>EHQ_EHQ_Total</th>\n",
       "      <th>ColorVision_CV_Score</th>\n",
       "      <th>APQ_P_APQ_P_CP</th>\n",
       "      <th>APQ_P_APQ_P_ID</th>\n",
       "      <th>APQ_P_APQ_P_INV</th>\n",
       "      <th>APQ_P_APQ_P_OPD</th>\n",
       "      <th>APQ_P_APQ_P_PM</th>\n",
       "      <th>APQ_P_APQ_P_PP</th>\n",
       "      <th>SDQ_SDQ_Conduct_Problems</th>\n",
       "      <th>...</th>\n",
       "      <th>MRI_Track_Age_at_Scan</th>\n",
       "      <th>Basic_Demos_Enroll_Year</th>\n",
       "      <th>Basic_Demos_Study_Site</th>\n",
       "      <th>PreInt_Demos_Fam_Child_Ethnicity</th>\n",
       "      <th>PreInt_Demos_Fam_Child_Race</th>\n",
       "      <th>MRI_Track_Scan_Location</th>\n",
       "      <th>Barratt_Barratt_P1_Edu</th>\n",
       "      <th>Barratt_Barratt_P1_Occ</th>\n",
       "      <th>Barratt_Barratt_P2_Edu</th>\n",
       "      <th>Barratt_Barratt_P2_Occ</th>\n",
       "    </tr>\n",
       "  </thead>\n",
       "  <tbody>\n",
       "    <tr>\n",
       "      <th>0</th>\n",
       "      <td>UmrK0vMLopoR</td>\n",
       "      <td>40.00</td>\n",
       "      <td>13</td>\n",
       "      <td>3</td>\n",
       "      <td>10</td>\n",
       "      <td>47</td>\n",
       "      <td>13</td>\n",
       "      <td>11</td>\n",
       "      <td>28</td>\n",
       "      <td>0</td>\n",
       "      <td>...</td>\n",
       "      <td>NaN</td>\n",
       "      <td>2016</td>\n",
       "      <td>1</td>\n",
       "      <td>0.0</td>\n",
       "      <td>0</td>\n",
       "      <td>1</td>\n",
       "      <td>21</td>\n",
       "      <td>45</td>\n",
       "      <td>21</td>\n",
       "      <td>45</td>\n",
       "    </tr>\n",
       "    <tr>\n",
       "      <th>1</th>\n",
       "      <td>CPaeQkhcjg7d</td>\n",
       "      <td>-94.47</td>\n",
       "      <td>14</td>\n",
       "      <td>3</td>\n",
       "      <td>13</td>\n",
       "      <td>34</td>\n",
       "      <td>18</td>\n",
       "      <td>23</td>\n",
       "      <td>30</td>\n",
       "      <td>0</td>\n",
       "      <td>...</td>\n",
       "      <td>NaN</td>\n",
       "      <td>2019</td>\n",
       "      <td>3</td>\n",
       "      <td>1.0</td>\n",
       "      <td>2</td>\n",
       "      <td>3</td>\n",
       "      <td>15</td>\n",
       "      <td>15</td>\n",
       "      <td>0</td>\n",
       "      <td>0</td>\n",
       "    </tr>\n",
       "    <tr>\n",
       "      <th>2</th>\n",
       "      <td>Nb4EetVPm3gs</td>\n",
       "      <td>-46.67</td>\n",
       "      <td>14</td>\n",
       "      <td>4</td>\n",
       "      <td>10</td>\n",
       "      <td>35</td>\n",
       "      <td>16</td>\n",
       "      <td>10</td>\n",
       "      <td>29</td>\n",
       "      <td>1</td>\n",
       "      <td>...</td>\n",
       "      <td>8.239904</td>\n",
       "      <td>2016</td>\n",
       "      <td>1</td>\n",
       "      <td>1.0</td>\n",
       "      <td>8</td>\n",
       "      <td>1</td>\n",
       "      <td>18</td>\n",
       "      <td>40</td>\n",
       "      <td>0</td>\n",
       "      <td>0</td>\n",
       "    </tr>\n",
       "    <tr>\n",
       "      <th>3</th>\n",
       "      <td>p4vPhVu91o4b</td>\n",
       "      <td>-26.68</td>\n",
       "      <td>10</td>\n",
       "      <td>5</td>\n",
       "      <td>12</td>\n",
       "      <td>39</td>\n",
       "      <td>19</td>\n",
       "      <td>16</td>\n",
       "      <td>28</td>\n",
       "      <td>6</td>\n",
       "      <td>...</td>\n",
       "      <td>NaN</td>\n",
       "      <td>2018</td>\n",
       "      <td>3</td>\n",
       "      <td>0.0</td>\n",
       "      <td>8</td>\n",
       "      <td>3</td>\n",
       "      <td>15</td>\n",
       "      <td>30</td>\n",
       "      <td>18</td>\n",
       "      <td>0</td>\n",
       "    </tr>\n",
       "    <tr>\n",
       "      <th>4</th>\n",
       "      <td>M09PXs7arQ5E</td>\n",
       "      <td>0.00</td>\n",
       "      <td>14</td>\n",
       "      <td>5</td>\n",
       "      <td>15</td>\n",
       "      <td>40</td>\n",
       "      <td>20</td>\n",
       "      <td>24</td>\n",
       "      <td>28</td>\n",
       "      <td>1</td>\n",
       "      <td>...</td>\n",
       "      <td>8.940679</td>\n",
       "      <td>2019</td>\n",
       "      <td>3</td>\n",
       "      <td>0.0</td>\n",
       "      <td>1</td>\n",
       "      <td>3</td>\n",
       "      <td>15</td>\n",
       "      <td>20</td>\n",
       "      <td>0</td>\n",
       "      <td>0</td>\n",
       "    </tr>\n",
       "    <tr>\n",
       "      <th>...</th>\n",
       "      <td>...</td>\n",
       "      <td>...</td>\n",
       "      <td>...</td>\n",
       "      <td>...</td>\n",
       "      <td>...</td>\n",
       "      <td>...</td>\n",
       "      <td>...</td>\n",
       "      <td>...</td>\n",
       "      <td>...</td>\n",
       "      <td>...</td>\n",
       "      <td>...</td>\n",
       "      <td>...</td>\n",
       "      <td>...</td>\n",
       "      <td>...</td>\n",
       "      <td>...</td>\n",
       "      <td>...</td>\n",
       "      <td>...</td>\n",
       "      <td>...</td>\n",
       "      <td>...</td>\n",
       "      <td>...</td>\n",
       "      <td>...</td>\n",
       "    </tr>\n",
       "    <tr>\n",
       "      <th>1208</th>\n",
       "      <td>Atx7oub96GXS</td>\n",
       "      <td>87.80</td>\n",
       "      <td>14</td>\n",
       "      <td>5</td>\n",
       "      <td>14</td>\n",
       "      <td>39</td>\n",
       "      <td>20</td>\n",
       "      <td>15</td>\n",
       "      <td>21</td>\n",
       "      <td>1</td>\n",
       "      <td>...</td>\n",
       "      <td>10.697923</td>\n",
       "      <td>2019</td>\n",
       "      <td>1</td>\n",
       "      <td>0.0</td>\n",
       "      <td>0</td>\n",
       "      <td>2</td>\n",
       "      <td>21</td>\n",
       "      <td>40</td>\n",
       "      <td>21</td>\n",
       "      <td>40</td>\n",
       "    </tr>\n",
       "    <tr>\n",
       "      <th>1209</th>\n",
       "      <td>groSbUfkQngM</td>\n",
       "      <td>77.80</td>\n",
       "      <td>14</td>\n",
       "      <td>3</td>\n",
       "      <td>10</td>\n",
       "      <td>32</td>\n",
       "      <td>20</td>\n",
       "      <td>11</td>\n",
       "      <td>23</td>\n",
       "      <td>6</td>\n",
       "      <td>...</td>\n",
       "      <td>13.964750</td>\n",
       "      <td>2016</td>\n",
       "      <td>1</td>\n",
       "      <td>0.0</td>\n",
       "      <td>0</td>\n",
       "      <td>1</td>\n",
       "      <td>18</td>\n",
       "      <td>35</td>\n",
       "      <td>0</td>\n",
       "      <td>0</td>\n",
       "    </tr>\n",
       "    <tr>\n",
       "      <th>1210</th>\n",
       "      <td>zmxGvIrOD0bt</td>\n",
       "      <td>16.68</td>\n",
       "      <td>14</td>\n",
       "      <td>3</td>\n",
       "      <td>16</td>\n",
       "      <td>28</td>\n",
       "      <td>15</td>\n",
       "      <td>19</td>\n",
       "      <td>27</td>\n",
       "      <td>3</td>\n",
       "      <td>...</td>\n",
       "      <td>NaN</td>\n",
       "      <td>2015</td>\n",
       "      <td>1</td>\n",
       "      <td>1.0</td>\n",
       "      <td>2</td>\n",
       "      <td>1</td>\n",
       "      <td>18</td>\n",
       "      <td>20</td>\n",
       "      <td>0</td>\n",
       "      <td>0</td>\n",
       "    </tr>\n",
       "    <tr>\n",
       "      <th>1211</th>\n",
       "      <td>rOmWFuJCud5G</td>\n",
       "      <td>53.40</td>\n",
       "      <td>14</td>\n",
       "      <td>3</td>\n",
       "      <td>14</td>\n",
       "      <td>34</td>\n",
       "      <td>18</td>\n",
       "      <td>23</td>\n",
       "      <td>23</td>\n",
       "      <td>4</td>\n",
       "      <td>...</td>\n",
       "      <td>12.089094</td>\n",
       "      <td>2018</td>\n",
       "      <td>3</td>\n",
       "      <td>0.0</td>\n",
       "      <td>8</td>\n",
       "      <td>3</td>\n",
       "      <td>21</td>\n",
       "      <td>40</td>\n",
       "      <td>18</td>\n",
       "      <td>45</td>\n",
       "    </tr>\n",
       "    <tr>\n",
       "      <th>1212</th>\n",
       "      <td>k8HhHnnu2wmt</td>\n",
       "      <td>-57.80</td>\n",
       "      <td>14</td>\n",
       "      <td>5</td>\n",
       "      <td>11</td>\n",
       "      <td>42</td>\n",
       "      <td>18</td>\n",
       "      <td>16</td>\n",
       "      <td>24</td>\n",
       "      <td>3</td>\n",
       "      <td>...</td>\n",
       "      <td>12.595710</td>\n",
       "      <td>2018</td>\n",
       "      <td>3</td>\n",
       "      <td>1.0</td>\n",
       "      <td>2</td>\n",
       "      <td>2</td>\n",
       "      <td>21</td>\n",
       "      <td>40</td>\n",
       "      <td>18</td>\n",
       "      <td>45</td>\n",
       "    </tr>\n",
       "  </tbody>\n",
       "</table>\n",
       "<p>1213 rows × 28 columns</p>\n",
       "</div>"
      ],
      "text/plain": [
       "     participant_id  EHQ_EHQ_Total  ColorVision_CV_Score  APQ_P_APQ_P_CP  \\\n",
       "0      UmrK0vMLopoR          40.00                    13               3   \n",
       "1      CPaeQkhcjg7d         -94.47                    14               3   \n",
       "2      Nb4EetVPm3gs         -46.67                    14               4   \n",
       "3      p4vPhVu91o4b         -26.68                    10               5   \n",
       "4      M09PXs7arQ5E           0.00                    14               5   \n",
       "...             ...            ...                   ...             ...   \n",
       "1208   Atx7oub96GXS          87.80                    14               5   \n",
       "1209   groSbUfkQngM          77.80                    14               3   \n",
       "1210   zmxGvIrOD0bt          16.68                    14               3   \n",
       "1211   rOmWFuJCud5G          53.40                    14               3   \n",
       "1212   k8HhHnnu2wmt         -57.80                    14               5   \n",
       "\n",
       "      APQ_P_APQ_P_ID  APQ_P_APQ_P_INV  APQ_P_APQ_P_OPD  APQ_P_APQ_P_PM  \\\n",
       "0                 10               47               13              11   \n",
       "1                 13               34               18              23   \n",
       "2                 10               35               16              10   \n",
       "3                 12               39               19              16   \n",
       "4                 15               40               20              24   \n",
       "...              ...              ...              ...             ...   \n",
       "1208              14               39               20              15   \n",
       "1209              10               32               20              11   \n",
       "1210              16               28               15              19   \n",
       "1211              14               34               18              23   \n",
       "1212              11               42               18              16   \n",
       "\n",
       "      APQ_P_APQ_P_PP  SDQ_SDQ_Conduct_Problems  ...  MRI_Track_Age_at_Scan  \\\n",
       "0                 28                         0  ...                    NaN   \n",
       "1                 30                         0  ...                    NaN   \n",
       "2                 29                         1  ...               8.239904   \n",
       "3                 28                         6  ...                    NaN   \n",
       "4                 28                         1  ...               8.940679   \n",
       "...              ...                       ...  ...                    ...   \n",
       "1208              21                         1  ...              10.697923   \n",
       "1209              23                         6  ...              13.964750   \n",
       "1210              27                         3  ...                    NaN   \n",
       "1211              23                         4  ...              12.089094   \n",
       "1212              24                         3  ...              12.595710   \n",
       "\n",
       "      Basic_Demos_Enroll_Year  Basic_Demos_Study_Site  \\\n",
       "0                        2016                       1   \n",
       "1                        2019                       3   \n",
       "2                        2016                       1   \n",
       "3                        2018                       3   \n",
       "4                        2019                       3   \n",
       "...                       ...                     ...   \n",
       "1208                     2019                       1   \n",
       "1209                     2016                       1   \n",
       "1210                     2015                       1   \n",
       "1211                     2018                       3   \n",
       "1212                     2018                       3   \n",
       "\n",
       "      PreInt_Demos_Fam_Child_Ethnicity  PreInt_Demos_Fam_Child_Race  \\\n",
       "0                                  0.0                            0   \n",
       "1                                  1.0                            2   \n",
       "2                                  1.0                            8   \n",
       "3                                  0.0                            8   \n",
       "4                                  0.0                            1   \n",
       "...                                ...                          ...   \n",
       "1208                               0.0                            0   \n",
       "1209                               0.0                            0   \n",
       "1210                               1.0                            2   \n",
       "1211                               0.0                            8   \n",
       "1212                               1.0                            2   \n",
       "\n",
       "      MRI_Track_Scan_Location  Barratt_Barratt_P1_Edu  Barratt_Barratt_P1_Occ  \\\n",
       "0                           1                      21                      45   \n",
       "1                           3                      15                      15   \n",
       "2                           1                      18                      40   \n",
       "3                           3                      15                      30   \n",
       "4                           3                      15                      20   \n",
       "...                       ...                     ...                     ...   \n",
       "1208                        2                      21                      40   \n",
       "1209                        1                      18                      35   \n",
       "1210                        1                      18                      20   \n",
       "1211                        3                      21                      40   \n",
       "1212                        2                      21                      40   \n",
       "\n",
       "      Barratt_Barratt_P2_Edu  Barratt_Barratt_P2_Occ  \n",
       "0                         21                      45  \n",
       "1                          0                       0  \n",
       "2                          0                       0  \n",
       "3                         18                       0  \n",
       "4                          0                       0  \n",
       "...                      ...                     ...  \n",
       "1208                      21                      40  \n",
       "1209                       0                       0  \n",
       "1210                       0                       0  \n",
       "1211                      18                      45  \n",
       "1212                      18                      45  \n",
       "\n",
       "[1213 rows x 28 columns]"
      ]
     },
     "execution_count": 6,
     "metadata": {},
     "output_type": "execute_result"
    }
   ],
   "source": [
    "train"
   ]
  },
  {
   "cell_type": "code",
   "execution_count": 7,
   "metadata": {},
   "outputs": [],
   "source": [
    "train.set_index('participant_id',inplace=True)\n",
    "test.set_index('participant_id',inplace=True)\n",
    "label.set_index('participant_id',inplace=True)"
   ]
  },
  {
   "cell_type": "code",
   "execution_count": 8,
   "metadata": {},
   "outputs": [
    {
     "data": {
      "text/html": [
       "<div>\n",
       "<style scoped>\n",
       "    .dataframe tbody tr th:only-of-type {\n",
       "        vertical-align: middle;\n",
       "    }\n",
       "\n",
       "    .dataframe tbody tr th {\n",
       "        vertical-align: top;\n",
       "    }\n",
       "\n",
       "    .dataframe thead th {\n",
       "        text-align: right;\n",
       "    }\n",
       "</style>\n",
       "<table border=\"1\" class=\"dataframe\">\n",
       "  <thead>\n",
       "    <tr style=\"text-align: right;\">\n",
       "      <th></th>\n",
       "      <th>0throw_1thcolumn</th>\n",
       "      <th>0throw_2thcolumn</th>\n",
       "      <th>0throw_3thcolumn</th>\n",
       "      <th>0throw_4thcolumn</th>\n",
       "      <th>0throw_5thcolumn</th>\n",
       "      <th>0throw_6thcolumn</th>\n",
       "      <th>0throw_7thcolumn</th>\n",
       "      <th>0throw_8thcolumn</th>\n",
       "      <th>0throw_9thcolumn</th>\n",
       "      <th>0throw_10thcolumn</th>\n",
       "      <th>...</th>\n",
       "      <th>MRI_Track_Age_at_Scan</th>\n",
       "      <th>Basic_Demos_Enroll_Year</th>\n",
       "      <th>Basic_Demos_Study_Site</th>\n",
       "      <th>PreInt_Demos_Fam_Child_Ethnicity</th>\n",
       "      <th>PreInt_Demos_Fam_Child_Race</th>\n",
       "      <th>MRI_Track_Scan_Location</th>\n",
       "      <th>Barratt_Barratt_P1_Edu</th>\n",
       "      <th>Barratt_Barratt_P1_Occ</th>\n",
       "      <th>Barratt_Barratt_P2_Edu</th>\n",
       "      <th>Barratt_Barratt_P2_Occ</th>\n",
       "    </tr>\n",
       "    <tr>\n",
       "      <th>participant_id</th>\n",
       "      <th></th>\n",
       "      <th></th>\n",
       "      <th></th>\n",
       "      <th></th>\n",
       "      <th></th>\n",
       "      <th></th>\n",
       "      <th></th>\n",
       "      <th></th>\n",
       "      <th></th>\n",
       "      <th></th>\n",
       "      <th></th>\n",
       "      <th></th>\n",
       "      <th></th>\n",
       "      <th></th>\n",
       "      <th></th>\n",
       "      <th></th>\n",
       "      <th></th>\n",
       "      <th></th>\n",
       "      <th></th>\n",
       "      <th></th>\n",
       "      <th></th>\n",
       "    </tr>\n",
       "  </thead>\n",
       "  <tbody>\n",
       "  </tbody>\n",
       "</table>\n",
       "<p>0 rows × 19927 columns</p>\n",
       "</div>"
      ],
      "text/plain": [
       "Empty DataFrame\n",
       "Columns: [0throw_1thcolumn, 0throw_2thcolumn, 0throw_3thcolumn, 0throw_4thcolumn, 0throw_5thcolumn, 0throw_6thcolumn, 0throw_7thcolumn, 0throw_8thcolumn, 0throw_9thcolumn, 0throw_10thcolumn, 0throw_11thcolumn, 0throw_12thcolumn, 0throw_13thcolumn, 0throw_14thcolumn, 0throw_15thcolumn, 0throw_16thcolumn, 0throw_17thcolumn, 0throw_18thcolumn, 0throw_19thcolumn, 0throw_20thcolumn, 0throw_21thcolumn, 0throw_22thcolumn, 0throw_23thcolumn, 0throw_24thcolumn, 0throw_25thcolumn, 0throw_26thcolumn, 0throw_27thcolumn, 0throw_28thcolumn, 0throw_29thcolumn, 0throw_30thcolumn, 0throw_31thcolumn, 0throw_32thcolumn, 0throw_33thcolumn, 0throw_34thcolumn, 0throw_35thcolumn, 0throw_36thcolumn, 0throw_37thcolumn, 0throw_38thcolumn, 0throw_39thcolumn, 0throw_40thcolumn, 0throw_41thcolumn, 0throw_42thcolumn, 0throw_43thcolumn, 0throw_44thcolumn, 0throw_45thcolumn, 0throw_46thcolumn, 0throw_47thcolumn, 0throw_48thcolumn, 0throw_49thcolumn, 0throw_50thcolumn, 0throw_51thcolumn, 0throw_52thcolumn, 0throw_53thcolumn, 0throw_54thcolumn, 0throw_55thcolumn, 0throw_56thcolumn, 0throw_57thcolumn, 0throw_58thcolumn, 0throw_59thcolumn, 0throw_60thcolumn, 0throw_61thcolumn, 0throw_62thcolumn, 0throw_63thcolumn, 0throw_64thcolumn, 0throw_65thcolumn, 0throw_66thcolumn, 0throw_67thcolumn, 0throw_68thcolumn, 0throw_69thcolumn, 0throw_70thcolumn, 0throw_71thcolumn, 0throw_72thcolumn, 0throw_73thcolumn, 0throw_74thcolumn, 0throw_75thcolumn, 0throw_76thcolumn, 0throw_77thcolumn, 0throw_78thcolumn, 0throw_79thcolumn, 0throw_80thcolumn, 0throw_81thcolumn, 0throw_82thcolumn, 0throw_83thcolumn, 0throw_84thcolumn, 0throw_85thcolumn, 0throw_86thcolumn, 0throw_87thcolumn, 0throw_88thcolumn, 0throw_89thcolumn, 0throw_90thcolumn, 0throw_91thcolumn, 0throw_92thcolumn, 0throw_93thcolumn, 0throw_94thcolumn, 0throw_95thcolumn, 0throw_96thcolumn, 0throw_97thcolumn, 0throw_98thcolumn, 0throw_99thcolumn, 0throw_100thcolumn, ...]\n",
       "Index: []\n",
       "\n",
       "[0 rows x 19927 columns]"
      ]
     },
     "execution_count": 8,
     "metadata": {},
     "output_type": "execute_result"
    }
   ],
   "source": [
    "test"
   ]
  },
  {
   "cell_type": "code",
   "execution_count": 9,
   "metadata": {},
   "outputs": [
    {
     "data": {
      "text/html": [
       "<div>\n",
       "<style scoped>\n",
       "    .dataframe tbody tr th:only-of-type {\n",
       "        vertical-align: middle;\n",
       "    }\n",
       "\n",
       "    .dataframe tbody tr th {\n",
       "        vertical-align: top;\n",
       "    }\n",
       "\n",
       "    .dataframe thead th {\n",
       "        text-align: right;\n",
       "    }\n",
       "</style>\n",
       "<table border=\"1\" class=\"dataframe\">\n",
       "  <thead>\n",
       "    <tr style=\"text-align: right;\">\n",
       "      <th></th>\n",
       "      <th>null_count</th>\n",
       "    </tr>\n",
       "  </thead>\n",
       "  <tbody>\n",
       "    <tr>\n",
       "      <th>MRI_Track_Age_at_Scan</th>\n",
       "      <td>360</td>\n",
       "    </tr>\n",
       "    <tr>\n",
       "      <th>PreInt_Demos_Fam_Child_Ethnicity</th>\n",
       "      <td>11</td>\n",
       "    </tr>\n",
       "  </tbody>\n",
       "</table>\n",
       "</div>"
      ],
      "text/plain": [
       "                                  null_count\n",
       "MRI_Track_Age_at_Scan                    360\n",
       "PreInt_Demos_Fam_Child_Ethnicity          11"
      ]
     },
     "execution_count": 9,
     "metadata": {},
     "output_type": "execute_result"
    }
   ],
   "source": [
    "# Explore Null data\n",
    "pd.DataFrame(train.isnull().sum(), columns=['null_count']).query('null_count > 0')"
   ]
  },
  {
   "cell_type": "code",
   "execution_count": 10,
   "metadata": {},
   "outputs": [
    {
     "data": {
      "text/plain": [
       "'null_index = train[train.isnull().any(axis=1)].index\\n\\ntrain = train[~train.index.isin(null_index)]\\nlabel = label[~label.index.isin(null_index)]'"
      ]
     },
     "execution_count": 10,
     "metadata": {},
     "output_type": "execute_result"
    }
   ],
   "source": [
    "# Filter out the row index of \n",
    "'''null_index = train[train.isnull().any(axis=1)].index\n",
    "\n",
    "train = train[~train.index.isin(null_index)]\n",
    "label = label[~label.index.isin(null_index)]'''"
   ]
  },
  {
   "cell_type": "code",
   "execution_count": 11,
   "metadata": {},
   "outputs": [
    {
     "data": {
      "text/plain": [
       "ADHD_Outcome\n",
       "1    831\n",
       "0    382\n",
       "Name: count, dtype: int64"
      ]
     },
     "execution_count": 11,
     "metadata": {},
     "output_type": "execute_result"
    }
   ],
   "source": [
    "label.ADHD_Outcome.value_counts()\n",
    "# 383 neg, 831 pos"
   ]
  },
  {
   "cell_type": "code",
   "execution_count": 12,
   "metadata": {},
   "outputs": [
    {
     "data": {
      "text/plain": [
       "Sex_F\n",
       "0    797\n",
       "1    416\n",
       "Name: count, dtype: int64"
      ]
     },
     "execution_count": 12,
     "metadata": {},
     "output_type": "execute_result"
    }
   ],
   "source": [
    "label.Sex_F.value_counts()\n",
    "# 797 M, 416 F"
   ]
  },
  {
   "cell_type": "code",
   "execution_count": 13,
   "metadata": {},
   "outputs": [
    {
     "data": {
      "text/html": [
       "<div>\n",
       "<style scoped>\n",
       "    .dataframe tbody tr th:only-of-type {\n",
       "        vertical-align: middle;\n",
       "    }\n",
       "\n",
       "    .dataframe tbody tr th {\n",
       "        vertical-align: top;\n",
       "    }\n",
       "\n",
       "    .dataframe thead th {\n",
       "        text-align: right;\n",
       "    }\n",
       "</style>\n",
       "<table border=\"1\" class=\"dataframe\">\n",
       "  <thead>\n",
       "    <tr style=\"text-align: right;\">\n",
       "      <th>Sex_F</th>\n",
       "      <th>0</th>\n",
       "      <th>1</th>\n",
       "    </tr>\n",
       "    <tr>\n",
       "      <th>ADHD_Outcome</th>\n",
       "      <th></th>\n",
       "      <th></th>\n",
       "    </tr>\n",
       "  </thead>\n",
       "  <tbody>\n",
       "    <tr>\n",
       "      <th>0</th>\n",
       "      <td>0.178071</td>\n",
       "      <td>0.136851</td>\n",
       "    </tr>\n",
       "    <tr>\n",
       "      <th>1</th>\n",
       "      <td>0.478978</td>\n",
       "      <td>0.206101</td>\n",
       "    </tr>\n",
       "  </tbody>\n",
       "</table>\n",
       "</div>"
      ],
      "text/plain": [
       "Sex_F                0         1\n",
       "ADHD_Outcome                    \n",
       "0             0.178071  0.136851\n",
       "1             0.478978  0.206101"
      ]
     },
     "execution_count": 13,
     "metadata": {},
     "output_type": "execute_result"
    }
   ],
   "source": [
    "pd.crosstab(label['ADHD_Outcome'], label['Sex_F'], normalize='all')"
   ]
  },
  {
   "cell_type": "code",
   "execution_count": 14,
   "metadata": {},
   "outputs": [
    {
     "data": {
      "text/html": [
       "<div>\n",
       "<style scoped>\n",
       "    .dataframe tbody tr th:only-of-type {\n",
       "        vertical-align: middle;\n",
       "    }\n",
       "\n",
       "    .dataframe tbody tr th {\n",
       "        vertical-align: top;\n",
       "    }\n",
       "\n",
       "    .dataframe thead th {\n",
       "        text-align: right;\n",
       "    }\n",
       "</style>\n",
       "<table border=\"1\" class=\"dataframe\">\n",
       "  <thead>\n",
       "    <tr style=\"text-align: right;\">\n",
       "      <th>Sex_F</th>\n",
       "      <th>0</th>\n",
       "      <th>1</th>\n",
       "    </tr>\n",
       "    <tr>\n",
       "      <th>ADHD_Outcome</th>\n",
       "      <th></th>\n",
       "      <th></th>\n",
       "    </tr>\n",
       "  </thead>\n",
       "  <tbody>\n",
       "    <tr>\n",
       "      <th>0</th>\n",
       "      <td>216</td>\n",
       "      <td>166</td>\n",
       "    </tr>\n",
       "    <tr>\n",
       "      <th>1</th>\n",
       "      <td>581</td>\n",
       "      <td>250</td>\n",
       "    </tr>\n",
       "  </tbody>\n",
       "</table>\n",
       "</div>"
      ],
      "text/plain": [
       "Sex_F           0    1\n",
       "ADHD_Outcome          \n",
       "0             216  166\n",
       "1             581  250"
      ]
     },
     "execution_count": 14,
     "metadata": {},
     "output_type": "execute_result"
    }
   ],
   "source": [
    "pd.crosstab(label['ADHD_Outcome'], label['Sex_F'])"
   ]
  },
  {
   "cell_type": "code",
   "execution_count": 15,
   "metadata": {},
   "outputs": [],
   "source": [
    "connectome_train.set_index('participant_id', inplace= True)"
   ]
  },
  {
   "cell_type": "code",
   "execution_count": 16,
   "metadata": {},
   "outputs": [],
   "source": [
    "df = connectome_train.iloc[:,:5]"
   ]
  },
  {
   "cell_type": "markdown",
   "metadata": {},
   "source": [
    "# Model Train\n",
    "Baseline model: Multi-output pipeline for same model.\n",
    "- Logistic Reg with L1 norm for sparsity and inference enhancement\n",
    "- NN with 2 output nodes with binary classifier activiation function (Sigmoid)\n",
    "\n",
    "Performance: Multi-task models with shared features for correlated tasks.\n",
    "- Multitask Lasso or multitask Elastic Net"
   ]
  },
  {
   "cell_type": "markdown",
   "metadata": {},
   "source": [
    "### Preprocessing\n",
    "A pipeline that transform categorical into one-hot code, and quant data into a standard scaler"
   ]
  },
  {
   "cell_type": "code",
   "execution_count": 17,
   "metadata": {},
   "outputs": [],
   "source": [
    "cat_train = cat_train.drop(['PreInt_Demos_Fam_Child_Ethnicity', 'PreInt_Demos_Fam_Child_Race'], axis =1 )\n",
    "categorical_features = list(cat_train.drop(['participant_id'], axis= 1).columns)\n",
    "numeric_features = train.drop(cat_train.drop(['participant_id'], axis = 1).columns, axis = 1).columns\n",
    "\n",
    "preprocessor = ColumnTransformer(\n",
    "    transformers=[\n",
    "        ('num', StandardScaler(), numeric_features),\n",
    "        ('cat', OneHotEncoder(), categorical_features)\n",
    "    ])"
   ]
  },
  {
   "cell_type": "code",
   "execution_count": 18,
   "metadata": {},
   "outputs": [],
   "source": [
    "# Create ColumnTransformer\n",
    "numeric_transformer = Pipeline(steps=[\n",
    "    ('imputer', SimpleImputer(strategy='mean')),  # Mean imputation for missing values\n",
    "    ('scaler', StandardScaler())                 # Standard scaling\n",
    "])\n",
    "\n",
    "\n",
    "preprocessor = ColumnTransformer(\n",
    "    transformers=[\n",
    "        ('num', numeric_transformer, numeric_features),\n",
    "        ('cat', OneHotEncoder(), categorical_features)\n",
    "    ])"
   ]
  },
  {
   "cell_type": "markdown",
   "metadata": {},
   "source": [
    "### Train - test split\n"
   ]
  },
  {
   "cell_type": "code",
   "execution_count": 19,
   "metadata": {},
   "outputs": [],
   "source": [
    "x_train, x_test, y_train, y_test = train_test_split(train, label, test_size=0.3, random_state=527)\n"
   ]
  },
  {
   "cell_type": "code",
   "execution_count": 20,
   "metadata": {},
   "outputs": [
    {
     "data": {
      "text/html": [
       "<div>\n",
       "<style scoped>\n",
       "    .dataframe tbody tr th:only-of-type {\n",
       "        vertical-align: middle;\n",
       "    }\n",
       "\n",
       "    .dataframe tbody tr th {\n",
       "        vertical-align: top;\n",
       "    }\n",
       "\n",
       "    .dataframe thead th {\n",
       "        text-align: right;\n",
       "    }\n",
       "</style>\n",
       "<table border=\"1\" class=\"dataframe\">\n",
       "  <thead>\n",
       "    <tr style=\"text-align: right;\">\n",
       "      <th></th>\n",
       "      <th>null_count</th>\n",
       "    </tr>\n",
       "  </thead>\n",
       "  <tbody>\n",
       "    <tr>\n",
       "      <th>MRI_Track_Age_at_Scan</th>\n",
       "      <td>251</td>\n",
       "    </tr>\n",
       "    <tr>\n",
       "      <th>PreInt_Demos_Fam_Child_Ethnicity</th>\n",
       "      <td>8</td>\n",
       "    </tr>\n",
       "  </tbody>\n",
       "</table>\n",
       "</div>"
      ],
      "text/plain": [
       "                                  null_count\n",
       "MRI_Track_Age_at_Scan                    251\n",
       "PreInt_Demos_Fam_Child_Ethnicity           8"
      ]
     },
     "execution_count": 20,
     "metadata": {},
     "output_type": "execute_result"
    }
   ],
   "source": [
    "pd.DataFrame(x_train.isnull().sum(), columns=['null_count']).query('null_count > 0')"
   ]
  },
  {
   "cell_type": "code",
   "execution_count": 21,
   "metadata": {},
   "outputs": [
    {
     "name": "stdout",
     "output_type": "stream",
     "text": [
      "(849, 27)\n",
      "(364, 27)\n",
      "(849, 2)\n",
      "(364, 2)\n"
     ]
    }
   ],
   "source": [
    "print(x_train.shape)\n",
    "print(x_test.shape)\n",
    "print(y_train.shape)\n",
    "print(y_test.shape)"
   ]
  },
  {
   "cell_type": "markdown",
   "metadata": {},
   "source": [
    "### Visual call-out Functions"
   ]
  },
  {
   "cell_type": "code",
   "execution_count": 22,
   "metadata": {},
   "outputs": [],
   "source": [
    "def model_result(y_test, y_pred, model_name):\n",
    "    \"\"\"\n",
    "    Compute and display important performance metrics for a classification model, \n",
    "    including F1-score, sensitivity, specificity, and a confusion matrix heatmap.\n",
    "\n",
    "    Parameters:\n",
    "    -----------\n",
    "    y_test : array-like or Series (Truth)\n",
    "    y_pred : array-like or Series (Model prediction)\n",
    "    model_name : str\n",
    "\n",
    "    Outputs:\n",
    "    --------\n",
    "    - Prints the F1-score, sensitivity (recall), and specificity.\n",
    "    - Displays a heatmap of the confusion matrix for easier interpretation.\n",
    "\n",
    "    Usage:\n",
    "    ------\n",
    "    1. Pass `y_test` and `y_pred` as arrays (or pandas Series).\n",
    "    2. Provide a descriptive `model_name`(model and dataset used) to label the confusion matrix plot.\n",
    "    \"\"\"\n",
    "    classes = ['Negative', 'positive']\n",
    "    cm = confusion_matrix(y_test, y_pred)\n",
    "    accuracy = accuracy_score(y_test, y_pred)\n",
    "\n",
    "    # Compute confusion matrix\n",
    "    tn, fp, fn, tp = cm.ravel()\n",
    "\n",
    "    # Calculate sensitivity and specificity\n",
    "    sens = tp / (tp + fn)\n",
    "    spec = tn / (tn + fp)\n",
    "\n",
    "    # Print results\n",
    "    print('Accuracy: ', accuracy)\n",
    "    print(f\"Sensitivity (Recall/True Positive Rate): {sens:.2f}\")\n",
    "    print(f\"Specificity (True Negative Rate): {spec:.2f}\")\n",
    "    print('f1: ', f1_score(y_test, y_pred))\n",
    "\n",
    "    # Plot the confusion matrix as a heatmap\n",
    "    plt.figure(figsize=(8, 6))\n",
    "    sns.heatmap(cm, annot=True, fmt='d', cmap='Blues', xticklabels=classes, yticklabels=classes)\n",
    "    plt.xlabel(\"Predicted Labels\")\n",
    "    plt.ylabel(\"True Labels\")\n",
    "    plt.title(f\"Confusion Matrix of {model_name}\")\n",
    "    plt.show()"
   ]
  },
  {
   "cell_type": "markdown",
   "metadata": {},
   "source": [
    "### Logistic Regression for each task"
   ]
  },
  {
   "cell_type": "code",
   "execution_count": 23,
   "metadata": {},
   "outputs": [],
   "source": [
    "# Create a new DataFrame with transformed data (optional)\n",
    "#features_transformed = pd.DataFrame(transformed_data, columns=preprocessor.get_feature_names_out()).columns\n",
    "#features_transformed#[features_transformed.str.contains(\"cat__|num__\")]\n"
   ]
  },
  {
   "cell_type": "code",
   "execution_count": 39,
   "metadata": {},
   "outputs": [
    {
     "name": "stderr",
     "output_type": "stream",
     "text": [
      "C:\\Users\\tuana\\AppData\\Local\\Temp/ipykernel_23312/710916087.py:2: FutureWarning: Series.__getitem__ treating keys as positions is deprecated. In a future version, integer keys will always be treated as labels (consistent with DataFrame behavior). To access a value by position, use `ser.iloc[pos]`\n",
      "  train_female_ct = label[label.Sex_F == 1].count()[0]\n",
      "C:\\Users\\tuana\\AppData\\Local\\Temp/ipykernel_23312/710916087.py:5: FutureWarning: Series.__getitem__ treating keys as positions is deprecated. In a future version, integer keys will always be treated as labels (consistent with DataFrame behavior). To access a value by position, use `ser.iloc[pos]`\n",
      "  train_posADHD_ct = label[label.ADHD_Outcome == 1].count()[0]\n"
     ]
    }
   ],
   "source": [
    "train_ct = label.iloc[:,0].count()\n",
    "train_female_ct = label[label.Sex_F == 1].count()[0]\n",
    "train_male_ct = train_ct - train_female_ct\n",
    "\n",
    "train_posADHD_ct = label[label.ADHD_Outcome == 1].count()[0]\n",
    "train_negADHD_ct = train_ct - train_posADHD_ct"
   ]
  },
  {
   "cell_type": "code",
   "execution_count": 24,
   "metadata": {},
   "outputs": [
    {
     "name": "stdout",
     "output_type": "stream",
     "text": [
      "Accuracy:  0.5824175824175825\n",
      "Sensitivity (Recall/True Positive Rate): 0.50\n",
      "Specificity (True Negative Rate): 0.63\n",
      "f1:  0.4571428571428572\n"
     ]
    },
    {
     "data": {
      "image/png": "[encoded data removed]",
      "text/plain": [
       "<Figure size 576x432 with 2 Axes>"
      ]
     },
     "metadata": {
      "needs_background": "light"
     },
     "output_type": "display_data"
    }
   ],
   "source": [
    "# Class weight for imbalance\n",
    "weight_positive = train_ct / (2 * train_female_ct)\n",
    "weight_negative = train_ct / (2 * train_male_ct)\n",
    "sex_weights = {0: weight_negative, 1: weight_positive}\n",
    "\n",
    "\n",
    "# Pipeline to preprocess, train using Log Regression with L1 Regularization\n",
    "pipeline = Pipeline(steps=[\n",
    "    ('classifier', (LogisticRegression(penalty='l1', solver='liblinear', class_weight= sex_weights)))\n",
    "])\n",
    "# Fit the preprocessor on training data\n",
    "x_train_preprocessed = preprocessor.fit_transform(x_train)\n",
    "x_train_features = pd.DataFrame(x_train_preprocessed, columns=preprocessor.get_feature_names_out()).columns\n",
    "\n",
    "# Transform the test data using the same preprocessor\n",
    "x_test_preprocessed = preprocessor.fit_transform(x_test)\n",
    "x_test_features = pd.DataFrame(x_test_preprocessed, columns=preprocessor.get_feature_names_out()).columns\n",
    "pipeline.fit(x_train_preprocessed, y_train.iloc[:,1])\n",
    "\n",
    "# Fit pipeline on preprocessed training data\n",
    "log_reg = pipeline.named_steps['classifier']\n",
    "\n",
    "log_reg.fit(x_train_preprocessed, y_train.iloc[:, 1])\n",
    "# Predict on preprocessed test data\n",
    "y_pred = log_reg.predict(x_test_preprocessed)\n",
    "\n",
    "# Evaluate the model\n",
    "model_result(y_test['Sex_F'], y_pred, \"Sex Classifier with Log L1\")"
   ]
  },
  {
   "cell_type": "code",
   "execution_count": 25,
   "metadata": {},
   "outputs": [
    {
     "name": "stdout",
     "output_type": "stream",
     "text": [
      "Values in A but not in B: []\n"
     ]
    }
   ],
   "source": [
    "# Find elements in A not in B\n",
    "values_not_in_b = [item for item in x_train_features if item not in x_test_features]\n",
    "print(\"Values in A but not in B:\", values_not_in_b)"
   ]
  },
  {
   "cell_type": "code",
   "execution_count": null,
   "metadata": {},
   "outputs": [],
   "source": [
    "# Create a new DataFrame with transformed data (optional)\n",
    "features_transformed = pd.DataFrame(x_test_preprocessed, columns=preprocessor.get_feature_names_out()).columns\n",
    "#features_transformed#[features_transformed.str.contains(\"cat__|num__\")]\n",
    "coefficients = log_reg.coef_[0]  # Coefficients for the single task\n",
    "feature_names = x_train.columns\n",
    "\n",
    "# Combine coefficients with feature names\n",
    "coef_data = list(zip(features_transformed, coefficients))\n",
    "df = pd.DataFrame(coef_data, columns = ['connectome', 'coef'])\n",
    "df.connectome = df.connectome.apply(lambda x: x.replace(\"cat__\", \"\")).apply(lambda x: x.replace(\"num__\", \"\"))\n",
    "df['rank'] = df['coef'].apply(lambda x: abs(x)).rank(ascending = False)\n",
    "df = df.set_index('connectome')\n",
    "df.sort_values('rank')"
   ]
  },
  {
   "cell_type": "code",
   "execution_count": 30,
   "metadata": {},
   "outputs": [
    {
     "name": "stdout",
     "output_type": "stream",
     "text": [
      "Accuracy:  0.8241758241758241\n",
      "Sensitivity (Recall/True Positive Rate): 0.95\n",
      "Specificity (True Negative Rate): 0.56\n",
      "f1:  0.8805970149253731\n"
     ]
    },
    {
     "data": {
      "image/png": "[encoded data removed]",
      "text/plain": [
       "<Figure size 576x432 with 2 Axes>"
      ]
     },
     "metadata": {
      "needs_background": "light"
     },
     "output_type": "display_data"
    }
   ],
   "source": [
    "# Class weight for imbalance\n",
    "total_samples = 382 + 831\n",
    "weight_positive = total_samples / (2 * 831)\n",
    "weight_negative = total_samples / (2 * 382)\n",
    "class_weights = {0: weight_negative, 1: weight_positive}\n",
    "\n",
    "\n",
    "log_reg.fit(x_train_preprocessed, y_train.iloc[:, 0])\n",
    "# Predict on preprocessed test data\n",
    "y_pred = log_reg.predict(x_test_preprocessed)\n",
    "\n",
    "# Evaluate the model\n",
    "model_result(y_test['ADHD_Outcome'], y_pred, \"ADHD Classifier with Log L1\")"
   ]
  },
  {
   "cell_type": "code",
   "execution_count": 33,
   "metadata": {},
   "outputs": [
    {
     "data": {
      "text/html": [
       "<div>\n",
       "<style scoped>\n",
       "    .dataframe tbody tr th:only-of-type {\n",
       "        vertical-align: middle;\n",
       "    }\n",
       "\n",
       "    .dataframe tbody tr th {\n",
       "        vertical-align: top;\n",
       "    }\n",
       "\n",
       "    .dataframe thead th {\n",
       "        text-align: right;\n",
       "    }\n",
       "</style>\n",
       "<table border=\"1\" class=\"dataframe\">\n",
       "  <thead>\n",
       "    <tr style=\"text-align: right;\">\n",
       "      <th></th>\n",
       "      <th>coef</th>\n",
       "      <th>rank</th>\n",
       "    </tr>\n",
       "    <tr>\n",
       "      <th>connectome</th>\n",
       "      <th></th>\n",
       "      <th></th>\n",
       "    </tr>\n",
       "  </thead>\n",
       "  <tbody>\n",
       "    <tr>\n",
       "      <th>SDQ_SDQ_Hyperactivity</th>\n",
       "      <td>1.491251</td>\n",
       "      <td>1.0</td>\n",
       "    </tr>\n",
       "    <tr>\n",
       "      <th>Basic_Demos_Enroll_Year_2016</th>\n",
       "      <td>-1.047415</td>\n",
       "      <td>2.0</td>\n",
       "    </tr>\n",
       "    <tr>\n",
       "      <th>Barratt_Barratt_P1_Occ_10</th>\n",
       "      <td>0.925124</td>\n",
       "      <td>3.0</td>\n",
       "    </tr>\n",
       "    <tr>\n",
       "      <th>Barratt_Barratt_P1_Occ_25</th>\n",
       "      <td>-0.698343</td>\n",
       "      <td>4.0</td>\n",
       "    </tr>\n",
       "    <tr>\n",
       "      <th>Barratt_Barratt_P1_Edu_6</th>\n",
       "      <td>0.680865</td>\n",
       "      <td>5.0</td>\n",
       "    </tr>\n",
       "    <tr>\n",
       "      <th>...</th>\n",
       "      <td>...</td>\n",
       "      <td>...</td>\n",
       "    </tr>\n",
       "    <tr>\n",
       "      <th>SDQ_SDQ_Conduct_Problems</th>\n",
       "      <td>0.000000</td>\n",
       "      <td>58.5</td>\n",
       "    </tr>\n",
       "    <tr>\n",
       "      <th>Barratt_Barratt_P1_Occ_15</th>\n",
       "      <td>0.000000</td>\n",
       "      <td>58.5</td>\n",
       "    </tr>\n",
       "    <tr>\n",
       "      <th>APQ_P_APQ_P_PM</th>\n",
       "      <td>0.000000</td>\n",
       "      <td>58.5</td>\n",
       "    </tr>\n",
       "    <tr>\n",
       "      <th>Barratt_Barratt_P1_Edu_3</th>\n",
       "      <td>0.000000</td>\n",
       "      <td>58.5</td>\n",
       "    </tr>\n",
       "    <tr>\n",
       "      <th>EHQ_EHQ_Total</th>\n",
       "      <td>0.000000</td>\n",
       "      <td>58.5</td>\n",
       "    </tr>\n",
       "  </tbody>\n",
       "</table>\n",
       "<p>71 rows × 2 columns</p>\n",
       "</div>"
      ],
      "text/plain": [
       "                                  coef  rank\n",
       "connectome                                  \n",
       "SDQ_SDQ_Hyperactivity         1.491251   1.0\n",
       "Basic_Demos_Enroll_Year_2016 -1.047415   2.0\n",
       "Barratt_Barratt_P1_Occ_10     0.925124   3.0\n",
       "Barratt_Barratt_P1_Occ_25    -0.698343   4.0\n",
       "Barratt_Barratt_P1_Edu_6      0.680865   5.0\n",
       "...                                ...   ...\n",
       "SDQ_SDQ_Conduct_Problems      0.000000  58.5\n",
       "Barratt_Barratt_P1_Occ_15     0.000000  58.5\n",
       "APQ_P_APQ_P_PM                0.000000  58.5\n",
       "Barratt_Barratt_P1_Edu_3      0.000000  58.5\n",
       "EHQ_EHQ_Total                 0.000000  58.5\n",
       "\n",
       "[71 rows x 2 columns]"
      ]
     },
     "execution_count": 33,
     "metadata": {},
     "output_type": "execute_result"
    }
   ],
   "source": [
    "# Create a new DataFrame with transformed data (optional)\n",
    "features_transformed = pd.DataFrame(x_test_preprocessed, columns=preprocessor.get_feature_names_out()).columns\n",
    "#features_transformed#[features_transformed.str.contains(\"cat__|num__\")]\n",
    "coefficients = log_reg.coef_[0]  # Coefficients for the single task\n",
    "feature_names = x_train.columns\n",
    "\n",
    "# Combine coefficients with feature names\n",
    "coef_data = list(zip(features_transformed, coefficients))\n",
    "df = pd.DataFrame(coef_data, columns = ['connectome', 'coef'])\n",
    "df.connectome = df.connectome.apply(lambda x: x.replace(\"cat__\", \"\")).apply(lambda x: x.replace(\"num__\", \"\"))\n",
    "df['rank'] = df['coef'].apply(lambda x: abs(x)).rank(ascending = False)\n",
    "df = df.set_index('connectome')\n",
    "df.sort_values('rank')#.to_csv('ADHD coef_list.csv')"
   ]
  },
  {
   "cell_type": "code",
   "execution_count": null,
   "metadata": {},
   "outputs": [],
   "source": []
  }
 ],
 "metadata": {
  "kernelspec": {
   "display_name": "base",
   "language": "python",
   "name": "python3"
  },
  "language_info": {
   "codemirror_mode": {
    "name": "ipython",
    "version": 3
   },
   "file_extension": ".py",
   "mimetype": "text/x-python",
   "name": "python",
   "nbconvert_exporter": "python",
   "pygments_lexer": "ipython3",
   "version": "3.9.7"
  }
 },
 "nbformat": 4,
 "nbformat_minor": 2
}
