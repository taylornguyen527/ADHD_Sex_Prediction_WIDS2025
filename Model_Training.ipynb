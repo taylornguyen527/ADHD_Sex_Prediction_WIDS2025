{
 "cells": [
  {
   "cell_type": "markdown",
   "metadata": {},
   "source": [
    "# WiDS 2025\n",
    "### Sex Patterns in ADHD"
   ]
  },
  {
   "cell_type": "markdown",
   "metadata": {},
   "source": [
    "### Import"
   ]
  },
  {
   "cell_type": "code",
   "execution_count": 34,
   "metadata": {},
   "outputs": [],
   "source": [
    "import pandas as pd\n",
    "import numpy as np\n",
    "import math\n",
    "\n",
    "\n",
    "from sklearn.compose import ColumnTransformer\n",
    "from sklearn.linear_model import MultiTaskElasticNetCV, LogisticRegression, RidgeClassifier\n",
    "from sklearn.preprocessing import StandardScaler, OneHotEncoder\n",
    "from sklearn.model_selection import train_test_split\n",
    "from sklearn.metrics import accuracy_score, confusion_matrix, f1_score\n",
    "from sklearn.pipeline import make_pipeline, Pipeline\n",
    "\n",
    "\n",
    "import seaborn as sns\n",
    "import matplotlib.pyplot as plt\n",
    "\n",
    "# Multi-output\n",
    "from sklearn.multioutput import MultiOutputClassifier\n",
    "\n",
    "# Multi-task\n",
    "from sklearn.linear_model import MultiTaskElasticNetCV\n"
   ]
  },
  {
   "cell_type": "code",
   "execution_count": 3,
   "metadata": {},
   "outputs": [],
   "source": [
    "source = \"TRAIN\"\n",
    "connectome_train = pd.read_csv(f\"{source}/{source}_FUNCTIONAL_CONNECTOME_MATRICES.csv\")\n",
    "cat_train = pd.read_csv(f\"{source}/{source}_CATEGORICAL_METADATA.csv\")\n",
    "quan_train = pd.read_csv(f\"{source}/{source}_QUANTITATIVE_METADATA.csv\")\n",
    "label = pd.read_csv(f\"{source}/TRAINING_SOLUTIONS.csv\")"
   ]
  },
  {
   "cell_type": "code",
   "execution_count": 4,
   "metadata": {},
   "outputs": [],
   "source": [
    "source = \"TEST\"\n",
    "connectome_test = pd.read_csv(f\"{source}/{source}_FUNCTIONAL_CONNECTOME_MATRICES.csv\")\n",
    "cat_test = pd.read_csv(f\"{source}/{source}_CATEGORICAL.csv\")\n",
    "quan_test = pd.read_csv(f\"{source}/{source}_QUANTITATIVE_METADATA.csv\")"
   ]
  },
  {
   "cell_type": "code",
   "execution_count": 5,
   "metadata": {},
   "outputs": [],
   "source": [
    "train = connectome_train.merge(quan_train, on= 'participant_id').merge(cat_train, on= 'participant_id')\n",
    "train.head(5)\n",
    "\n",
    "test = connectome_train.merge(quan_test, on= 'participant_id').merge(cat_test, on= 'participant_id')\n"
   ]
  },
  {
   "cell_type": "code",
   "execution_count": 6,
   "metadata": {},
   "outputs": [],
   "source": [
    "train.set_index('participant_id',inplace=True)\n",
    "test.set_index('participant_id',inplace=True)\n",
    "label.set_index('participant_id',inplace=True)"
   ]
  },
  {
   "cell_type": "code",
   "execution_count": 7,
   "metadata": {},
   "outputs": [
    {
     "data": {
      "text/html": [
       "<div>\n",
       "<style scoped>\n",
       "    .dataframe tbody tr th:only-of-type {\n",
       "        vertical-align: middle;\n",
       "    }\n",
       "\n",
       "    .dataframe tbody tr th {\n",
       "        vertical-align: top;\n",
       "    }\n",
       "\n",
       "    .dataframe thead th {\n",
       "        text-align: right;\n",
       "    }\n",
       "</style>\n",
       "<table border=\"1\" class=\"dataframe\">\n",
       "  <thead>\n",
       "    <tr style=\"text-align: right;\">\n",
       "      <th></th>\n",
       "      <th>null_count</th>\n",
       "    </tr>\n",
       "  </thead>\n",
       "  <tbody>\n",
       "    <tr>\n",
       "      <th>MRI_Track_Age_at_Scan</th>\n",
       "      <td>360</td>\n",
       "    </tr>\n",
       "    <tr>\n",
       "      <th>PreInt_Demos_Fam_Child_Ethnicity</th>\n",
       "      <td>11</td>\n",
       "    </tr>\n",
       "  </tbody>\n",
       "</table>\n",
       "</div>"
      ],
      "text/plain": [
       "                                  null_count\n",
       "MRI_Track_Age_at_Scan                    360\n",
       "PreInt_Demos_Fam_Child_Ethnicity          11"
      ]
     },
     "execution_count": 7,
     "metadata": {},
     "output_type": "execute_result"
    }
   ],
   "source": [
    "# Explore Null data\n",
    "pd.DataFrame(train.isnull().sum(), columns=['null_count']).query('null_count > 0')"
   ]
  },
  {
   "cell_type": "code",
   "execution_count": 8,
   "metadata": {},
   "outputs": [
    {
     "data": {
      "text/plain": [
       "'null_index = train[train.isnull().any(axis=1)].index\\n\\ntrain = train[~train.index.isin(null_index)]\\nlabel = label[~label.index.isin(null_index)]'"
      ]
     },
     "execution_count": 8,
     "metadata": {},
     "output_type": "execute_result"
    }
   ],
   "source": [
    "# Filter out the row index of \n",
    "'''null_index = train[train.isnull().any(axis=1)].index\n",
    "\n",
    "train = train[~train.index.isin(null_index)]\n",
    "label = label[~label.index.isin(null_index)]'''"
   ]
  },
  {
   "cell_type": "markdown",
   "metadata": {},
   "source": [
    "### EDA"
   ]
  },
  {
   "cell_type": "markdown",
   "metadata": {},
   "source": [
    "Cleaning checklist:\n",
    "\n",
    "Null: ?. Null Var importance? \n",
    "\n",
    "Each Var Normal Range -> Detect Anomalies -> remove or something else\n",
    "\n",
    "Data Type: Check categorical to have uniformed labels. check normal range if coded. Norminal type -> one-hot-code, ordinal -> label encode ()\n",
    "\n"
   ]
  },
  {
   "cell_type": "code",
   "execution_count": 10,
   "metadata": {},
   "outputs": [
    {
     "data": {
      "text/plain": [
       "ADHD_Outcome\n",
       "1    831\n",
       "0    382\n",
       "Name: count, dtype: int64"
      ]
     },
     "execution_count": 10,
     "metadata": {},
     "output_type": "execute_result"
    }
   ],
   "source": [
    "label.ADHD_Outcome.value_counts()\n",
    "# 383 neg, 831 pos"
   ]
  },
  {
   "cell_type": "code",
   "execution_count": 11,
   "metadata": {},
   "outputs": [
    {
     "data": {
      "text/plain": [
       "Sex_F\n",
       "0    797\n",
       "1    416\n",
       "Name: count, dtype: int64"
      ]
     },
     "execution_count": 11,
     "metadata": {},
     "output_type": "execute_result"
    }
   ],
   "source": [
    "label.Sex_F.value_counts()\n",
    "# 797 M, 416 F"
   ]
  },
  {
   "cell_type": "code",
   "execution_count": 12,
   "metadata": {},
   "outputs": [
    {
     "data": {
      "text/html": [
       "<div>\n",
       "<style scoped>\n",
       "    .dataframe tbody tr th:only-of-type {\n",
       "        vertical-align: middle;\n",
       "    }\n",
       "\n",
       "    .dataframe tbody tr th {\n",
       "        vertical-align: top;\n",
       "    }\n",
       "\n",
       "    .dataframe thead th {\n",
       "        text-align: right;\n",
       "    }\n",
       "</style>\n",
       "<table border=\"1\" class=\"dataframe\">\n",
       "  <thead>\n",
       "    <tr style=\"text-align: right;\">\n",
       "      <th>Sex_F</th>\n",
       "      <th>0</th>\n",
       "      <th>1</th>\n",
       "    </tr>\n",
       "    <tr>\n",
       "      <th>ADHD_Outcome</th>\n",
       "      <th></th>\n",
       "      <th></th>\n",
       "    </tr>\n",
       "  </thead>\n",
       "  <tbody>\n",
       "    <tr>\n",
       "      <th>0</th>\n",
       "      <td>0.178071</td>\n",
       "      <td>0.136851</td>\n",
       "    </tr>\n",
       "    <tr>\n",
       "      <th>1</th>\n",
       "      <td>0.478978</td>\n",
       "      <td>0.206101</td>\n",
       "    </tr>\n",
       "  </tbody>\n",
       "</table>\n",
       "</div>"
      ],
      "text/plain": [
       "Sex_F                0         1\n",
       "ADHD_Outcome                    \n",
       "0             0.178071  0.136851\n",
       "1             0.478978  0.206101"
      ]
     },
     "execution_count": 12,
     "metadata": {},
     "output_type": "execute_result"
    }
   ],
   "source": [
    "pd.crosstab(label['ADHD_Outcome'], label['Sex_F'], normalize='all')"
   ]
  },
  {
   "cell_type": "code",
   "execution_count": 13,
   "metadata": {},
   "outputs": [
    {
     "data": {
      "text/html": [
       "<div>\n",
       "<style scoped>\n",
       "    .dataframe tbody tr th:only-of-type {\n",
       "        vertical-align: middle;\n",
       "    }\n",
       "\n",
       "    .dataframe tbody tr th {\n",
       "        vertical-align: top;\n",
       "    }\n",
       "\n",
       "    .dataframe thead th {\n",
       "        text-align: right;\n",
       "    }\n",
       "</style>\n",
       "<table border=\"1\" class=\"dataframe\">\n",
       "  <thead>\n",
       "    <tr style=\"text-align: right;\">\n",
       "      <th>Sex_F</th>\n",
       "      <th>0</th>\n",
       "      <th>1</th>\n",
       "    </tr>\n",
       "    <tr>\n",
       "      <th>ADHD_Outcome</th>\n",
       "      <th></th>\n",
       "      <th></th>\n",
       "    </tr>\n",
       "  </thead>\n",
       "  <tbody>\n",
       "    <tr>\n",
       "      <th>0</th>\n",
       "      <td>216</td>\n",
       "      <td>166</td>\n",
       "    </tr>\n",
       "    <tr>\n",
       "      <th>1</th>\n",
       "      <td>581</td>\n",
       "      <td>250</td>\n",
       "    </tr>\n",
       "  </tbody>\n",
       "</table>\n",
       "</div>"
      ],
      "text/plain": [
       "Sex_F           0    1\n",
       "ADHD_Outcome          \n",
       "0             216  166\n",
       "1             581  250"
      ]
     },
     "execution_count": 13,
     "metadata": {},
     "output_type": "execute_result"
    }
   ],
   "source": [
    "pd.crosstab(label['ADHD_Outcome'], label['Sex_F'])"
   ]
  },
  {
   "cell_type": "code",
   "execution_count": 14,
   "metadata": {},
   "outputs": [],
   "source": [
    "connectome_train.set_index('participant_id', inplace= True)"
   ]
  },
  {
   "cell_type": "code",
   "execution_count": 15,
   "metadata": {},
   "outputs": [],
   "source": [
    "df = connectome_train.iloc[:,:5]"
   ]
  },
  {
   "cell_type": "code",
   "execution_count": 16,
   "metadata": {},
   "outputs": [
    {
     "data": {
      "text/html": [
       "<div>\n",
       "<style scoped>\n",
       "    .dataframe tbody tr th:only-of-type {\n",
       "        vertical-align: middle;\n",
       "    }\n",
       "\n",
       "    .dataframe tbody tr th {\n",
       "        vertical-align: top;\n",
       "    }\n",
       "\n",
       "    .dataframe thead th {\n",
       "        text-align: right;\n",
       "    }\n",
       "</style>\n",
       "<table border=\"1\" class=\"dataframe\">\n",
       "  <thead>\n",
       "    <tr style=\"text-align: right;\">\n",
       "      <th></th>\n",
       "      <th>0throw_1thcolumn</th>\n",
       "      <th>0throw_2thcolumn</th>\n",
       "      <th>0throw_3thcolumn</th>\n",
       "      <th>0throw_4thcolumn</th>\n",
       "      <th>0throw_5thcolumn</th>\n",
       "    </tr>\n",
       "    <tr>\n",
       "      <th>participant_id</th>\n",
       "      <th></th>\n",
       "      <th></th>\n",
       "      <th></th>\n",
       "      <th></th>\n",
       "      <th></th>\n",
       "    </tr>\n",
       "  </thead>\n",
       "  <tbody>\n",
       "    <tr>\n",
       "      <th>70z8Q2xdTXM3</th>\n",
       "      <td>0.093473</td>\n",
       "      <td>0.146902</td>\n",
       "      <td>0.067893</td>\n",
       "      <td>0.015141</td>\n",
       "      <td>0.070221</td>\n",
       "    </tr>\n",
       "    <tr>\n",
       "      <th>WHWymJu6zNZi</th>\n",
       "      <td>0.029580</td>\n",
       "      <td>0.179323</td>\n",
       "      <td>0.112933</td>\n",
       "      <td>0.038291</td>\n",
       "      <td>0.104899</td>\n",
       "    </tr>\n",
       "    <tr>\n",
       "      <th>4PAQp1M6EyAo</th>\n",
       "      <td>-0.051580</td>\n",
       "      <td>0.139734</td>\n",
       "      <td>0.068295</td>\n",
       "      <td>0.046991</td>\n",
       "      <td>0.111085</td>\n",
       "    </tr>\n",
       "    <tr>\n",
       "      <th>obEacy4Of68I</th>\n",
       "      <td>0.016273</td>\n",
       "      <td>0.204702</td>\n",
       "      <td>0.115980</td>\n",
       "      <td>0.043103</td>\n",
       "      <td>0.056431</td>\n",
       "    </tr>\n",
       "    <tr>\n",
       "      <th>s7WzzDcmDOhF</th>\n",
       "      <td>0.065771</td>\n",
       "      <td>0.098714</td>\n",
       "      <td>0.097604</td>\n",
       "      <td>0.112988</td>\n",
       "      <td>0.071139</td>\n",
       "    </tr>\n",
       "    <tr>\n",
       "      <th>...</th>\n",
       "      <td>...</td>\n",
       "      <td>...</td>\n",
       "      <td>...</td>\n",
       "      <td>...</td>\n",
       "      <td>...</td>\n",
       "    </tr>\n",
       "    <tr>\n",
       "      <th>kTurROKp5YHQ</th>\n",
       "      <td>0.022932</td>\n",
       "      <td>0.024830</td>\n",
       "      <td>-0.006514</td>\n",
       "      <td>0.021070</td>\n",
       "      <td>0.093365</td>\n",
       "    </tr>\n",
       "    <tr>\n",
       "      <th>FCRyMz9O6yCq</th>\n",
       "      <td>0.047078</td>\n",
       "      <td>0.135955</td>\n",
       "      <td>0.144366</td>\n",
       "      <td>0.054938</td>\n",
       "      <td>0.065760</td>\n",
       "    </tr>\n",
       "    <tr>\n",
       "      <th>vm2P1hmAY1hl</th>\n",
       "      <td>0.094541</td>\n",
       "      <td>0.145280</td>\n",
       "      <td>0.061964</td>\n",
       "      <td>0.030562</td>\n",
       "      <td>0.078278</td>\n",
       "    </tr>\n",
       "    <tr>\n",
       "      <th>OFxvN8lnw21w</th>\n",
       "      <td>-0.001533</td>\n",
       "      <td>0.128562</td>\n",
       "      <td>0.045000</td>\n",
       "      <td>-0.008742</td>\n",
       "      <td>0.003673</td>\n",
       "    </tr>\n",
       "    <tr>\n",
       "      <th>9gpepMI9sj5q</th>\n",
       "      <td>-0.115224</td>\n",
       "      <td>0.147713</td>\n",
       "      <td>0.083183</td>\n",
       "      <td>0.054649</td>\n",
       "      <td>0.034871</td>\n",
       "    </tr>\n",
       "  </tbody>\n",
       "</table>\n",
       "<p>1213 rows × 5 columns</p>\n",
       "</div>"
      ],
      "text/plain": [
       "                0throw_1thcolumn  0throw_2thcolumn  0throw_3thcolumn  \\\n",
       "participant_id                                                         \n",
       "70z8Q2xdTXM3            0.093473          0.146902          0.067893   \n",
       "WHWymJu6zNZi            0.029580          0.179323          0.112933   \n",
       "4PAQp1M6EyAo           -0.051580          0.139734          0.068295   \n",
       "obEacy4Of68I            0.016273          0.204702          0.115980   \n",
       "s7WzzDcmDOhF            0.065771          0.098714          0.097604   \n",
       "...                          ...               ...               ...   \n",
       "kTurROKp5YHQ            0.022932          0.024830         -0.006514   \n",
       "FCRyMz9O6yCq            0.047078          0.135955          0.144366   \n",
       "vm2P1hmAY1hl            0.094541          0.145280          0.061964   \n",
       "OFxvN8lnw21w           -0.001533          0.128562          0.045000   \n",
       "9gpepMI9sj5q           -0.115224          0.147713          0.083183   \n",
       "\n",
       "                0throw_4thcolumn  0throw_5thcolumn  \n",
       "participant_id                                      \n",
       "70z8Q2xdTXM3            0.015141          0.070221  \n",
       "WHWymJu6zNZi            0.038291          0.104899  \n",
       "4PAQp1M6EyAo            0.046991          0.111085  \n",
       "obEacy4Of68I            0.043103          0.056431  \n",
       "s7WzzDcmDOhF            0.112988          0.071139  \n",
       "...                          ...               ...  \n",
       "kTurROKp5YHQ            0.021070          0.093365  \n",
       "FCRyMz9O6yCq            0.054938          0.065760  \n",
       "vm2P1hmAY1hl            0.030562          0.078278  \n",
       "OFxvN8lnw21w           -0.008742          0.003673  \n",
       "9gpepMI9sj5q            0.054649          0.034871  \n",
       "\n",
       "[1213 rows x 5 columns]"
      ]
     },
     "execution_count": 16,
     "metadata": {},
     "output_type": "execute_result"
    }
   ],
   "source": [
    "df"
   ]
  },
  {
   "cell_type": "markdown",
   "metadata": {},
   "source": [
    "# Model Train\n",
    "Baseline model: Multi-output pipeline for same model.\n",
    "- Logistic Reg with L1 norm for sparsity and inference enhancement\n",
    "- NN with 2 output nodes with binary classifier activiation function (Sigmoid)\n",
    "\n",
    "Performance: Multi-task models with shared features for correlated tasks.\n",
    "- Multitask Lasso or multitask Elastic Net"
   ]
  },
  {
   "cell_type": "markdown",
   "metadata": {},
   "source": [
    "### Train - test split\n"
   ]
  },
  {
   "cell_type": "code",
   "execution_count": 37,
   "metadata": {},
   "outputs": [],
   "source": [
    "x_train, x_test, y_train, y_test = train_test_split(train, label, test_size=0.3, random_state=527)\n"
   ]
  },
  {
   "cell_type": "code",
   "execution_count": 38,
   "metadata": {},
   "outputs": [
    {
     "name": "stdout",
     "output_type": "stream",
     "text": [
      "(849, 19925)\n",
      "(364, 19925)\n",
      "(849, 2)\n",
      "(364, 2)\n"
     ]
    }
   ],
   "source": [
    "print(x_train.shape)\n",
    "print(x_test.shape)\n",
    "print(y_train.shape)\n",
    "print(y_test.shape)"
   ]
  },
  {
   "cell_type": "code",
   "execution_count": 39,
   "metadata": {},
   "outputs": [
    {
     "data": {
      "text/html": [
       "<div>\n",
       "<style scoped>\n",
       "    .dataframe tbody tr th:only-of-type {\n",
       "        vertical-align: middle;\n",
       "    }\n",
       "\n",
       "    .dataframe tbody tr th {\n",
       "        vertical-align: top;\n",
       "    }\n",
       "\n",
       "    .dataframe thead th {\n",
       "        text-align: right;\n",
       "    }\n",
       "</style>\n",
       "<table border=\"1\" class=\"dataframe\">\n",
       "  <thead>\n",
       "    <tr style=\"text-align: right;\">\n",
       "      <th></th>\n",
       "      <th>null_count</th>\n",
       "    </tr>\n",
       "  </thead>\n",
       "  <tbody>\n",
       "  </tbody>\n",
       "</table>\n",
       "</div>"
      ],
      "text/plain": [
       "Empty DataFrame\n",
       "Columns: [null_count]\n",
       "Index: []"
      ]
     },
     "execution_count": 39,
     "metadata": {},
     "output_type": "execute_result"
    }
   ],
   "source": [
    "pd.DataFrame(x_train.isnull().sum(), columns=['null_count']).query('null_count > 0')"
   ]
  },
  {
   "cell_type": "code",
   "execution_count": 40,
   "metadata": {},
   "outputs": [
    {
     "data": {
      "text/plain": [
       "ADHD_Outcome    int64\n",
       "Sex_F           int64\n",
       "dtype: object"
      ]
     },
     "execution_count": 40,
     "metadata": {},
     "output_type": "execute_result"
    }
   ],
   "source": [
    "y_train.dtypes"
   ]
  },
  {
   "cell_type": "markdown",
   "metadata": {},
   "source": [
    "### Visual call-out Functions"
   ]
  },
  {
   "cell_type": "code",
   "execution_count": 58,
   "metadata": {},
   "outputs": [],
   "source": [
    "def model_result(y_test, y_pred, model_name):\n",
    "    \"\"\"\n",
    "    Compute and display important performance metrics for a classification model, \n",
    "    including F1-score, sensitivity, specificity, and a confusion matrix heatmap.\n",
    "\n",
    "    Parameters:\n",
    "    -----------\n",
    "    y_test : array-like or Series (Truth)\n",
    "    y_pred : array-like or Series (Model prediction)\n",
    "    model_name : str\n",
    "\n",
    "    Outputs:\n",
    "    --------\n",
    "    - Prints the F1-score, sensitivity (recall), and specificity.\n",
    "    - Displays a heatmap of the confusion matrix for easier interpretation.\n",
    "\n",
    "    Usage:\n",
    "    ------\n",
    "    1. Pass `y_test` and `y_pred` as arrays (or pandas Series).\n",
    "    2. Provide a descriptive `model_name`(model and dataset used) to label the confusion matrix plot.\n",
    "    \"\"\"\n",
    "    classes = ['Negative', 'positive']\n",
    "    cm = confusion_matrix(y_test, y_pred)\n",
    "    accuracy = accuracy_score(y_test, y_pred)\n",
    "\n",
    "    # Compute confusion matrix\n",
    "    tn, fp, fn, tp = cm.ravel()\n",
    "\n",
    "    # Calculate sensitivity and specificity\n",
    "    sens = tp / (tp + fn)\n",
    "    spec = tn / (tn + fp)\n",
    "\n",
    "    # Print results\n",
    "    print('Accuracy: ', accuracy)\n",
    "    print(f\"Sensitivity (Recall/True Positive Rate): {sens:.2f}\")\n",
    "    print(f\"Specificity (True Negative Rate): {spec:.2f}\")\n",
    "    print('f1: ', f1_score(y_test, y_pred))\n",
    "\n",
    "    # Plot the confusion matrix as a heatmap\n",
    "    plt.figure(figsize=(8, 6))\n",
    "    sns.heatmap(cm, annot=True, fmt='d', cmap='Blues', xticklabels=classes, yticklabels=classes)\n",
    "    plt.xlabel(\"Predicted Labels\")\n",
    "    plt.ylabel(\"True Labels\")\n",
    "    plt.title(f\"Confusion Matrix of {model_name}\")\n",
    "    plt.show()"
   ]
  },
  {
   "cell_type": "markdown",
   "metadata": {},
   "source": [
    "### Preprocessing\n",
    "A pipeline that transform categorical into one-hot code, and quant data into a standard scaler"
   ]
  },
  {
   "cell_type": "code",
   "execution_count": 50,
   "metadata": {},
   "outputs": [],
   "source": [
    "# Remove 2 features with null\n",
    "\n",
    "categorical_features = list(cat_train.drop(['participant_id', 'PreInt_Demos_Fam_Child_Ethnicity'], axis= 1).columns)\n",
    "numeric_features = train.drop(cat_train.drop(['participant_id', 'PreInt_Demos_Fam_Child_Ethnicity'], axis = 1).columns, axis = 1).columns\n",
    "\n",
    "preprocessor = ColumnTransformer(\n",
    "    transformers=[\n",
    "        ('num', StandardScaler(), numeric_features),\n",
    "        ('cat', OneHotEncoder(), categorical_features)\n",
    "    ])"
   ]
  },
  {
   "cell_type": "markdown",
   "metadata": {},
   "source": [
    "### Multi-output\n",
    "Perform the same model for both tasks"
   ]
  },
  {
   "cell_type": "code",
   "execution_count": null,
   "metadata": {},
   "outputs": [
    {
     "name": "stdout",
     "output_type": "stream",
     "text": [
      "Multi-output Log Regression with L1 f1 score: 0.61\n"
     ]
    }
   ],
   "source": [
    "# Multi-output model for log classifier with \n",
    "pipeline = Pipeline(steps=[\n",
    "    ('preprocessor', preprocessor),\n",
    "    ('classifier', MultiOutputClassifier(LogisticRegression(penalty='l1', solver='liblinear')))\n",
    "])\n",
    "\n",
    "pipeline.fit(x_train, y_train)\n",
    "\n",
    "model = pipeline.named_steps['classifier']\n",
    "\n",
    "y_pred = pipeline.predict(x_test)\n",
    "f1 = f1_score(y_test,y_pred, average = 'micro')\n",
    "print(f'f1 score of Multi-output Log Regression with L1 : {f1:.2f}')"
   ]
  },
  {
   "cell_type": "markdown",
   "metadata": {},
   "source": [
    "Looking closer into each classes metrics"
   ]
  },
  {
   "cell_type": "code",
   "execution_count": 59,
   "metadata": {},
   "outputs": [
    {
     "name": "stdout",
     "output_type": "stream",
     "text": [
      "Accuracy:  0.6071428571428571\n",
      "Sensitivity (Recall/True Positive Rate): 0.81\n",
      "Specificity (True Negative Rate): 0.17\n",
      "f1:  0.7376146788990826\n"
     ]
    },
    {
     "data": {
      "image/png": "[encoded data removed]",
      "text/plain": [
       "<Figure size 576x432 with 2 Axes>"
      ]
     },
     "metadata": {
      "needs_background": "light"
     },
     "output_type": "display_data"
    }
   ],
   "source": [
    "model_result(y_test['ADHD_Outcome'], y_pred[:,0], \"ADHD Classifier with Log L1\")"
   ]
  },
  {
   "cell_type": "code",
   "execution_count": 60,
   "metadata": {},
   "outputs": [
    {
     "name": "stdout",
     "output_type": "stream",
     "text": [
      "Accuracy:  0.5879120879120879\n",
      "Sensitivity (Recall/True Positive Rate): 0.22\n",
      "Specificity (True Negative Rate): 0.79\n",
      "f1:  0.27884615384615385\n"
     ]
    },
    {
     "data": {
      "image/png": "[encoded data removed]",
      "text/plain": [
       "<Figure size 576x432 with 2 Axes>"
      ]
     },
     "metadata": {
      "needs_background": "light"
     },
     "output_type": "display_data"
    }
   ],
   "source": [
    "model_result(y_test['Sex_F'], y_pred[:,1], \"Sex Classifier with Log L1\")"
   ]
  },
  {
   "cell_type": "markdown",
   "metadata": {},
   "source": [
    "Log while produce about less then 0.6 acc for both classes which is a bit over random guess, it produce extremely low f1 score for Gender."
   ]
  },
  {
   "cell_type": "markdown",
   "metadata": {},
   "source": [
    "### Multi-task Models\n"
   ]
  },
  {
   "cell_type": "markdown",
   "metadata": {},
   "source": []
  }
 ],
 "metadata": {
  "kernelspec": {
   "display_name": "base",
   "language": "python",
   "name": "python3"
  },
  "language_info": {
   "codemirror_mode": {
    "name": "ipython",
    "version": 3
   },
   "file_extension": ".py",
   "mimetype": "text/x-python",
   "name": "python",
   "nbconvert_exporter": "python",
   "pygments_lexer": "ipython3",
   "version": "3.9.7"
  }
 },
 "nbformat": 4,
 "nbformat_minor": 2
}
